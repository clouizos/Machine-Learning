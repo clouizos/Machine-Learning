{
 "metadata": {
  "name": ""
 },
 "nbformat": 3,
 "nbformat_minor": 0,
 "worksheets": [
  {
   "cells": [
    {
     "cell_type": "code",
     "collapsed": false,
     "input": [
      "%pylab inline\n",
      "from __future__ import division\n",
      "from random import shuffle\n",
      "from operator import itemgetter\n",
      "import numpy as np\n",
      "import matplotlib.pyplot as plt\n",
      "import gzip, cPickle"
     ],
     "language": "python",
     "metadata": {},
     "outputs": [
      {
       "output_type": "stream",
       "stream": "stdout",
       "text": [
        "Populating the interactive namespace from numpy and matplotlib\n"
       ]
      },
      {
       "output_type": "stream",
       "stream": "stderr",
       "text": [
        "WARNING: pylab import has clobbered these variables: ['shuffle']\n",
        "`%pylab --no-import-all` prevents importing * from pylab and numpy\n"
       ]
      }
     ],
     "prompt_number": 16
    },
    {
     "cell_type": "markdown",
     "metadata": {},
     "source": [
      "# Lab 2: Classification\n",
      "\n",
      "### Machine Learning and Pattern Recognition, September 2013\n",
      "\n",
      "* The lab exercises should be made in groups of three people, or at least two people.\n",
      "* The deadline is october 6th (sunday) 23:59.\n",
      "* Assignment should be sent to N.Hu@uva.nl (Ninhang Hu). The subject line of your email should be \"lab\\#\\_lastname1\\_lastname2\\_lastname3\".\n",
      "* Put your and your teammates' names in the body of the email\n",
      "* Attach the .IPYNB (IPython Notebook) file containing your code and answers. Naming of the file follows the same rule as the subject line. For example, if the subject line is \"lab01\\_Kingma\\_Hu\", the attached file should be \"lab01\\_Kingma\\_Hu.ipynb\". Only use underscores (\"\\_\") to connect names, otherwise the files cannot be parsed.\n",
      "\n",
      "Notes on implementation:\n",
      "\n",
      "* You should write your code and answers in an IPython Notebook: http://ipython.org/notebook.html. If you have problems, please contact us.\n",
      "* Among the first lines of your notebook should be \"%pylab inline\". This imports all required modules, and your plots will appear inline.\n",
      "* For this lab, your regression solutions should be in closed form, i.e., should not perform iterative gradient-based optimization but find the exact optimum directly.\n",
      "* NOTE: Make sure we can run your notebook / scripts!\n",
      "\n",
      "$\\newcommand{\\bx}{\\mathbf{x}}$\n",
      "$\\newcommand{\\bw}{\\mathbf{w}}$\n",
      "$\\newcommand{\\bt}{\\mathbf{t}}$\n",
      "$\\newcommand{\\by}{\\mathbf{y}}$\n",
      "$\\newcommand{\\bm}{\\mathbf{m}}$\n",
      "$\\newcommand{\\bb}{\\mathbf{b}}$\n",
      "$\\newcommand{\\bS}{\\mathbf{S}}$\n",
      "$\\newcommand{\\ba}{\\mathbf{a}}$\n",
      "$\\newcommand{\\bz}{\\mathbf{z}}$\n",
      "$\\newcommand{\\bv}{\\mathbf{v}}$\n",
      "$\\newcommand{\\bq}{\\mathbf{q}}$\n",
      "$\\newcommand{\\bp}{\\mathbf{p}}$\n",
      "$\\newcommand{\\bh}{\\mathbf{h}}$\n",
      "\n",
      "$\\newcommand{\\bI}{\\mathbf{I}}$\n",
      "$\\newcommand{\\bX}{\\mathbf{X}}$\n",
      "$\\newcommand{\\bT}{\\mathbf{T}}$\n",
      "$\\newcommand{\\bPhi}{\\mathbf{\\Phi}}$\n",
      "$\\newcommand{\\bW}{\\mathbf{W}}$\n",
      "$\\newcommand{\\bV}{\\mathbf{V}}$"
     ]
    },
    {
     "cell_type": "markdown",
     "metadata": {},
     "source": [
      "# Part 1. Multiclass logistic regression\n",
      "\n",
      "Scenario: you have a friend with one big problem: she's completely blind. You decided to help her: she has a special smartphone for blind people, and you are going to develop a mobile phone app that can do _machine vision_ using the mobile camera: converting a picture (from the camera) to the meaning of the image. You decide to start with an app that can read handwritten digits, i.e. convert an image of handwritten digits to text (e.g. it would enable her to read precious handwritten phone numbers).\n",
      "\n",
      "A key building block for such an app would be a function `predict_digit(x)` that returns the digit class of an image patch $\\bx$. Since hand-coding this function is highly non-trivial, you decide to solve this problem using machine learning, such that the internal parameters of this function are automatically learned using machine learning techniques.\n",
      "\n",
      "The dataset you're going to use for this is the MNIST handwritten digits dataset (`http://yann.lecun.com/exdb/mnist/`). You can load the data from `mnist.pkl.gz` we provided, using: "
     ]
    },
    {
     "cell_type": "code",
     "collapsed": false,
     "input": [
      "def load_mnist():\n",
      "\tf = gzip.open('mnist.pkl.gz', 'rb')\n",
      "\tdata = cPickle.load(f)\n",
      "\tf.close()\n",
      "\treturn data\n",
      "\n",
      "(x_train, t_train), (x_valid, t_valid), (x_test, t_test) = load_mnist()"
     ],
     "language": "python",
     "metadata": {},
     "outputs": [],
     "prompt_number": 20
    },
    {
     "cell_type": "markdown",
     "metadata": {},
     "source": [
      "The tuples represent train, validation and test sets. The first element (`x_train`, `x_valid`, `x_test`) of each tuple is a $N \\times M$ matrix, where $N$ is the number of datapoints and $M = 28^2 = 784$ is the dimensionality of the data. The second element (`t_train`, `t_valid`, `t_test`) of each tuple is the corresponding $N$-dimensional vector of integers, containing the true class labels.\n",
      "\n",
      "Here's a visualisation of the first 8 digits of the trainingset:"
     ]
    },
    {
     "cell_type": "code",
     "collapsed": false,
     "input": [
      "def plot_digits(data, numcols, shape=(28,28)):\n",
      "    numdigits = data.shape[0]\n",
      "    numrows = int(numdigits/numcols)\n",
      "    for i in range(numdigits):\n",
      "        plt.subplot(numrows, numcols, i)\n",
      "        plt.axis('off')\n",
      "        plt.imshow(data[i].reshape(shape), interpolation='nearest', cmap='Greys')\n",
      "    plt.show()\n",
      "    \n",
      "plot_digits(x_train[0:8], numcols=4)\n"
     ],
     "language": "python",
     "metadata": {},
     "outputs": [
      {
       "metadata": {},
       "output_type": "display_data",
       "png": "[encoded data removed]",
       "text": [
        "<matplotlib.figure.Figure at 0x2d010d0>"
       ]
      }
     ],
     "prompt_number": 6
    },
    {
     "cell_type": "markdown",
     "metadata": {},
     "source": [
      "In _multiclass_ logistic regression, the conditional probability of class label $j$ given the image $\\bx$ for some datapoint is given by:\n",
      "\n",
      "$ \\log p(t = j \\;|\\; \\bx, \\bb, \\bW) = \\log q_j - \\log Z$\n",
      "\n",
      "where $\\log q_j = \\bw_j^T \\bx + b_j$ (the unnormalized probability of the class $j$), and $Z = \\sum_k q_k$ is the normalizing factor. $\\bw_j$ is the $j$-th column of $\\bW$ (a matrix of size $784 \\times 10$) corresponding to the class label, $b_j$ is the $j$-th element of $\\bb$.\n",
      "\n",
      "Given an input image, the multiclass logistic regression model first computes the intermediate vector $\\log \\bq$ (of size $10 \\times 1$), using $\\log q_j = \\bw_j^T \\bx + b_j$, containing the unnormalized log-probabilities per class. \n",
      "\n",
      "The unnormalized probabilities are then normalized by $Z$ such that $\\sum_j p_j = \\sum_j \\exp(\\log p_j) = 1$. This is done by $\\log p_j = \\log q_j - \\log Z$ where $Z = \\sum_j \\exp(\\log q_j)$. This is known as the _softmax_ transformation, and is also used as a last layer of many classifcation neural network models, to ensure that the output of the network is a normalized distribution, regardless of the values of second-to-last layer ($\\log \\bq$)\n",
      "\n",
      "The network's output $\\log \\bp$ of size $10 \\times 1$ then contains the conditional log-probabilities $\\log p(t = j \\;|\\; \\bx, \\bb, \\bW)$ for each digit class $j$. In summary, the computations are done in this order:\n",
      "\n",
      "$\\bx \\rightarrow \\log \\bq \\rightarrow Z \\rightarrow \\log \\bp$\n",
      "\n",
      "Given some dataset with $N$ datapoints, the log-likelihood is given by:\n",
      "\n",
      "$ \\mathcal{L}(\\bb, \\bW) = \\sum_{i=1}^N \\mathcal{L}^{(i)}$\n",
      "\n",
      "where we use $\\mathcal{L}^{(i)}$ to denote the partial log-likelihood evaluated over a single datapoint. It is important to see that the log-probability of the class label $t^{(i)}$ given the image, is given by the $t^{(i)}$-th element of the network's output $\\log \\bp$, denoted by $\\log p_{t^{(i)}}$:\n",
      "\n",
      "$\\mathcal{L}^{(i)} = \\log p(t = t^{(i)} \\;|\\; \\bx = \\bx^{(i)}, \\bb, \\bW) = \\log p_{t^{(i)}} = \\log q_{t^{(i)}} - \\log Z$\n",
      "\n",
      "where $\\bx^{(i)}$ and $t^{(i)}$ are the input (image) and class label (integer) of the $i$-th datapoint, and $Z$ is of course different per datapoint.\n"
     ]
    },
    {
     "cell_type": "markdown",
     "metadata": {},
     "source": [
      "## 1.1 Gradient-based stochastic optimization\n",
      "\n",
      "### 1.1.1 Derive gradient equations\n",
      "\n",
      "Derive the equations for computing the (first) partial derivatives of log-likelihood w.r.t. all the parameters, evaluated at a _single_ datapoint $i$.\n",
      "\n",
      "You should start deriving the equations for $\\frac{\\partial \\mathcal{L}^{(i)}}{\\partial \\log q_j}$ for each $j$. For clarity, we'll use the shorthand $\\delta^q_j = \\frac{\\partial \\mathcal{L}^{(i)}}{\\partial \\log q_j}$.\n",
      "\n",
      "For $j = t^{(i)}$:\n",
      "$\n",
      "\\delta^q_j\n",
      "= \\frac{\\partial \\mathcal{L}^{(i)}}{\\partial \\log p_j}\n",
      "\\frac{\\partial \\log p_j}{\\partial \\log q_j}\n",
      "+ \\frac{\\partial \\mathcal{L}^{(i)}}{\\partial \\log Z}\n",
      "\\frac{\\partial \\log Z}{\\partial Z} \n",
      "\\frac{\\partial Z}{\\partial \\log q_j} \n",
      "= 1 \\cdot 1 - \\frac{\\partial \\log Z}{\\partial Z} \n",
      "\\frac{\\partial Z}{\\partial \\log q_j}\n",
      "= 1 - \\frac{\\partial \\log Z}{\\partial Z} \n",
      "\\frac{\\partial Z}{\\partial \\log q_j}\n",
      "$\n",
      "\n",
      "For $j \\neq t^{(i)}$:\n",
      "$\n",
      "\\delta^q_j\n",
      "= \\frac{\\partial \\mathcal{L}^{(i)}}{\\partial \\log Z}\n",
      "\\frac{\\partial \\log Z}{\\partial Z} \n",
      "\\frac{\\partial Z}{\\partial \\log q_j} \n",
      "= - \\frac{\\partial \\log Z}{\\partial Z} \n",
      "\\frac{\\partial Z}{\\partial \\log q_j}\n",
      "$\n",
      "\n",
      "Complete the above derivations for $\\delta^q_j$ by furtherly developing $\\frac{\\partial \\log Z}{\\partial Z}$ and $\\frac{\\partial Z}{\\partial \\log q_j}$. Both are quite simple. For these it doesn't matter whether $j = t^{(i)}$ or not.\n",
      "\n",
      "Given your equations for computing the gradients $\\delta^q_j$ it should be quite straightforward to derive the equations for the gradients of the parameters of the model, $\\frac{\\partial \\mathcal{L}^{(i)}}{\\partial \\log W_{ij}}$ and $\\frac{\\partial \\mathcal{L}^{(i)}}{\\partial b_j}$. The gradients for the biases $\\bb$ are given by:\n",
      "\n",
      "$\n",
      "\\frac{\\partial \\mathcal{L}^{(i)}}{\\partial b_j}\n",
      "= \\frac{\\partial \\mathcal{L}^{(i)}}{\\partial \\log q_j}\n",
      "\\frac{\\partial \\log q_j}{\\partial b_j}\n",
      "= \\delta^q_j\n",
      "\\cdot 1\n",
      "= \\delta^q_j\n",
      "$\n",
      "\n",
      "The equation above gives the derivative of $\\mathcal{L}^{(i)}$ w.r.t. a single element of $\\bb$, so the vector $\\nabla_\\bb \\mathcal{L}^{(i)}$ with all derivatives of $\\mathcal{L}^{(i)}$ w.r.t. the bias parameters $\\bb$ is: \n",
      "\n",
      "$\n",
      "\\nabla_\\bb \\mathcal{L}^{(i)} = \\mathbf{\\delta}^q\n",
      "$\n",
      "\n",
      "where $\\mathbf{\\delta}^q$ denotes the vector of size $10 \\times 1$ with elements $\\mathbf{\\delta}_j^q$.\n",
      "\n",
      "The (not fully developed) equation for computing the derivative of $\\mathcal{L}^{(i)}$ w.r.t. a single element $W_{ij}$ of $\\bW$ is:\n",
      "\n",
      "$\n",
      "\\frac{\\partial \\mathcal{L}^{(i)}}{\\partial W_{ij}} =\n",
      "\\frac{\\partial \\mathcal{L}^{(i)}}{\\partial \\log q_j}\n",
      "\\frac{\\partial \\log q_j}{\\partial W_{ij}}\n",
      "= \\mathbf{\\delta}_j^q\n",
      "\\frac{\\partial \\log q_j}{\\partial W_{ij}}\n",
      "$\n",
      "\n",
      "What is $\\frac{\\partial \\log q_j}{\\partial W_{ij}}$? Complete the equation above.\n",
      "\n",
      "If you want, you can give the resulting equation in vector format ($\\nabla_{\\bw_j} \\mathcal{L}^{(i)} = ...$), like we did for $\\nabla_\\bb \\mathcal{L}^{(i)}$."
     ]
    },
    {
     "cell_type": "heading",
     "level": 3,
     "metadata": {},
     "source": [
      "Answer :"
     ]
    },
    {
     "cell_type": "markdown",
     "metadata": {},
     "source": [
      "$\\textbf{Complete equation for } \\delta^q_j :$\n",
      "\n",
      "For $j = t^{(i)}$:\n",
      "$\n",
      "\\delta^q_j\n",
      "= \\frac{\\partial \\mathcal{L}^{(i)}}{\\partial \\log p_j}\n",
      "\\frac{\\partial \\log p_j}{\\partial \\log q_j}\n",
      "+ \\frac{\\partial \\mathcal{L}^{(i)}}{\\partial \\log Z}\n",
      "\\frac{\\partial \\log Z}{\\partial Z} \n",
      "\\frac{\\partial Z}{\\partial \\log q_j} \n",
      "= 1 \\cdot 1 - \\frac{\\partial \\log Z}{\\partial Z} \n",
      "\\frac{\\partial Z}{\\partial \\log q_j}\n",
      "= 1 - \\frac{1}{Z} \\exp(\\log q_j)\n",
      "$\n",
      "\n",
      "For $j \\neq t^{(i)}$:\n",
      "$\n",
      "\\delta^q_j\n",
      "= \\frac{\\partial \\mathcal{L}^{(i)}}{\\partial \\log Z}\n",
      "\\frac{\\partial \\log Z}{\\partial Z} \n",
      "\\frac{\\partial Z}{\\partial \\log q_j} \n",
      "= - \\frac{\\partial \\log Z}{\\partial Z} \n",
      "\\frac{\\partial Z}{\\partial \\log q_j}\n",
      "=- \\frac{1}{Z} \\exp(\\log q_j)\n",
      "$\n",
      "\n",
      "$\\textbf{Complete equation for } \\nabla_{\\bw_j} \\mathcal{L}^{(i)} :$\n",
      "\n",
      "$\n",
      "\\frac{\\partial \\mathcal{L}^{(i)}}{\\partial W_{ij}} =\n",
      "\\frac{\\partial \\mathcal{L}^{(i)}}{\\partial \\log q_j}\n",
      "\\frac{\\partial \\log q_j}{\\partial W_{ij}}\n",
      "= \\mathbf{\\delta}_j^q\n",
      "\\frac{\\partial \\log q_j}{\\partial W_{ij}}\n",
      "=\\mathbf{\\delta}_j^q \\mathbf{x_i}\n",
      "$\n",
      "\n",
      "\n",
      "Assume $\\mathbf{x}$ is a $784 \\times 1$ vector, then in vector format :\n",
      "$\n",
      "\\nabla_{\\bw_j} \\mathcal{L}^{(i)} = \\mathbf{x}\\mathbf{\\delta}_j^q\n",
      "$"
     ]
    },
    {
     "cell_type": "markdown",
     "metadata": {},
     "source": [
      "### 1.1.2 Implement gradient computations\n",
      "\n",
      "Implement the gradient calculations you derived in the previous question. Write a function `logreg_gradient(x, t, w, b)` that returns the gradients $\\nabla_{\\bw_j} \\mathcal{L}^{(i)}$ (for each $j$) and $\\nabla_{\\bb} \\mathcal{L}^{(i)}$, i.e. the first partial derivatives of the log-likelihood w.r.t. the parameters $\\bW$ and $\\bb$, evaluated at a single datapoint (`x`, `t`).\n",
      "The computation will contain roughly the following intermediate variables:\n",
      "\n",
      "$\n",
      "\\log \\bq \\rightarrow Z \\rightarrow \\log \\bp \\rightarrow \\mathbf{\\delta}^q\n",
      "$\n",
      "\n",
      "followed by computation of the gradient vectors $\\nabla_{\\bw_j} \\mathcal{L}^{(i)}$ (contained in a $784 \\times 10$ matrix) and $\\nabla_{\\bb} \\mathcal{L}^{(i)}$ (a $10 \\times 1$ vector).\n",
      "\n",
      "### 1.1.3 Stochastic gradient descent\n",
      "\n",
      "Write a function `sgd_iter(x_train, t_train, w, b)` that performs an iteration of stochastic gradient descent (SGD), and returns the new weights. It should go through the trainingset once in randomized order, call `logreg_gradient(x, t, w, b)` for each datapoint to get the gradients, and update the parameters using a small learning rate (e.g. `1E-4`). Note that in this case we're maximizing the likelihood function, so we should actually performing gradient _ascent_.."
     ]
    },
    {
     "cell_type": "code",
     "collapsed": false,
     "input": [
      "def return_likelihood(x, t, w, b):\n",
      "   #return the normalized log probability of all datapoints in a dataset\n",
      "   logq, logp = np.zeros(b.shape[0]), np.zeros(b.shape[0])\n",
      "   logp_true = np.zeros(t.shape[0])\n",
      "   b = np.array([b,]*x.shape[0]).T\n",
      "   logq = np.dot(w.T,x.T)  + b\n",
      "   Z = np.sum(np.exp(logq), axis=0)\n",
      "   Z = np.array([Z,]*b.shape[0])\n",
      "   logp = logq - np.log(Z)\n",
      "   #return only for true class labels\n",
      "   for i in range(len(t)):\n",
      "       logp_true[i] = logp[t[i],i] \n",
      "   return logp_true\n",
      "\n",
      "def logreg_gradient(x, t, w, b):\n",
      "    logq, logp, deltaq = np.zeros(b.shape[0]), np.zeros(b.shape[0]), np.zeros(b.shape[0]) \n",
      "    gradw = np.zeros((x.shape[0], b.shape[0]))\n",
      "    \n",
      "    logq = np.dot(w.T, x) + b\n",
      "    Z = np.sum(np.exp(logq))\n",
      "\n",
      "    #calculate delta\n",
      "    deltaq[t] = 1 - ((1/Z)*np.exp(np.dot(w.T[t],x)+b[t]))\n",
      "    deltaq[0:t] = - ((1/Z)*np.exp(np.dot(w.T[0:t],x)+b[0:t]))\n",
      "    deltaq[t+1:len(deltaq)] = - ((1/Z)*np.exp(np.dot(w.T[t+1:len(deltaq)],x)+b[t+1:len(deltaq)]))\n",
      "    \n",
      "    #find gradient of the weights and bias, according to a datapoint\n",
      "    x = np.array([x])\n",
      "    deltaq = np.array([deltaq])\n",
      "    gradw = np.dot(deltaq.T, x).T\n",
      "    gradb = np.reshape(deltaq,-1)\n",
      "    \n",
      "    return gradw, gradb\n",
      "\n",
      "def sgd_iter(x_train, t_train, w, b):\n",
      "    #shuffle indices \n",
      "    index_shuf = range(len(x_train))\n",
      "    shuffle(index_shuf)\n",
      "    #set learning rate\n",
      "    a = 10**(-4)\n",
      "    \n",
      "    #perform one iteration through the training set and \n",
      "    #update the parameters according to gradient ascent\n",
      "    for i in index_shuf:\n",
      "        gradw, gradb = logreg_gradient(x_train[i], t_train[i], w, b)\n",
      "        w = w + a * gradw\n",
      "        b = b + a * gradb\n",
      "        \n",
      "    return w, b"
     ],
     "language": "python",
     "metadata": {},
     "outputs": [],
     "prompt_number": 21
    },
    {
     "cell_type": "markdown",
     "metadata": {},
     "source": [
      "## 1.2. Train\n",
      "\n",
      "### 1.2.1 Train\n",
      "Perform a handful of training iterations through the trainingset. Plot (in one graph) the conditional log-probability of the trainingset and validation set after each iteration.\n"
     ]
    },
    {
     "cell_type": "code",
     "collapsed": false,
     "input": [
      "def train_mult_log_reg(x_train, t_train, x_valid, t_valid, w, b, epochs):\n",
      "    #training, perform iterations equal to epochs\n",
      "    print \"training...\" \n",
      "    plt.figure(\"plot of conditional log-probability\")\n",
      "    logp_t = []\n",
      "    logp_v = []\n",
      "\n",
      "    for i in range(epochs):\n",
      "        print \"iteration: \"+str(i+1)\n",
      "        w, b = sgd_iter(x_train, t_train, w, b)\n",
      "        \n",
      "        #get the log probabilities after each iteration\n",
      "        logp_train = return_likelihood(x_train, t_train, w, b)\n",
      "        logp_valid = return_likelihood(x_valid, t_valid, w, b)\n",
      "        \n",
      "        #append the average of them\n",
      "        logp_t.append(np.mean(logp_train))\n",
      "        logp_v.append(np.mean(logp_valid))\n",
      "    \n",
      "    return w, b, logp_t, logp_v\n",
      "\n",
      "#find number of classes and initialize weight and bias vectors\n",
      "classes = np.unique(t_train)\n",
      "w = np.zeros((x_train.shape[1], len(classes)))\n",
      "b = np.zeros(len(classes))\n",
      "\n",
      "#train and plot the conditional log-probability of the training and validation set\n",
      "w, b, logp_t, logp_v = train_mult_log_reg(x_train, t_train, x_valid, t_valid, w, b, 5)\n",
      "plt.plot(logp_t, color = 'b', label = 'training')\n",
      "plt.plot(logp_v, color = 'g', label = 'validation') \n",
      "plt.legend()\n",
      "plt.show()"
     ],
     "language": "python",
     "metadata": {},
     "outputs": [
      {
       "output_type": "stream",
       "stream": "stdout",
       "text": [
        "training...\n",
        "iteration: 1\n",
        "iteration: 2"
       ]
      },
      {
       "output_type": "stream",
       "stream": "stdout",
       "text": [
        "\n",
        "iteration: 3"
       ]
      },
      {
       "output_type": "stream",
       "stream": "stdout",
       "text": [
        "\n",
        "iteration: 4"
       ]
      },
      {
       "output_type": "stream",
       "stream": "stdout",
       "text": [
        "\n",
        "iteration: 5"
       ]
      },
      {
       "output_type": "stream",
       "stream": "stdout",
       "text": [
        "\n"
       ]
      },
      {
       "metadata": {},
       "output_type": "display_data",
       "png": "[encoded data removed]",
       "text": [
        "<matplotlib.figure.Figure at 0x3402450>"
       ]
      }
     ],
     "prompt_number": 22
    },
    {
     "cell_type": "markdown",
     "metadata": {},
     "source": [
      "### 1.2.2 Visualize weights\n",
      "Visualize the resulting parameters $\\bW$ after a few iterations through the training set, by treating each column of $\\bW$ as an image. If you want, you can use or edit the `plot_digits(...)` above.\n",
      "\n"
     ]
    },
    {
     "cell_type": "code",
     "collapsed": false,
     "input": [
      "#plot weights  \n",
      "plt.figure(\"weights\")  \n",
      "plot_digits(w.T, numcols=5)"
     ],
     "language": "python",
     "metadata": {},
     "outputs": [
      {
       "metadata": {},
       "output_type": "display_data",
       "png": "[encoded data removed]",
       "text": [
        "<matplotlib.figure.Figure at 0x3410d50>"
       ]
      }
     ],
     "prompt_number": 10
    },
    {
     "cell_type": "markdown",
     "metadata": {},
     "source": [
      "### 1.2.3. Visualize the 8 hardest and 8 easiest digits\n",
      "Visualize the 8 digits in the validation set with the highest probability of the true class label under the model.\n",
      "Also plot the 8 digits that were assigned the lowest probability.\n",
      "Ask yourself if these results make sense."
     ]
    },
    {
     "cell_type": "code",
     "collapsed": false,
     "input": [
      "def validate(x_valid, t_valid, w, b, numval):\n",
      "    print \"model built. validating...\"\n",
      "    validation = []\n",
      "    logp = return_likelihood(x_valid,t_valid,w,b)\n",
      "    for t in range(len(t_valid)):\n",
      "        validation.append((logp[t], t))\n",
      "        \n",
      "    #sorts in ascending order so the last 8 have the greatest log likelihood\n",
      "    validation = sorted(validation,key=itemgetter(0))\n",
      "    #return the numval best and worst digits\n",
      "    return validation[len(validation)-numval:len(validation)], validation[0:numval] \n",
      "    \n",
      "def plot_res_reg(best, worst):    \n",
      "    #plot the best and worst digits\n",
      "    bestshow = np.array([x_valid[x[1]] for x in best])\n",
      "    worstshow = np.array([x_valid[x[1]] for x in worst])\n",
      "    \n",
      "    plt.figure(\"best\")\n",
      "    plot_digits(bestshow, numcols = 4)\n",
      "    plt.figure(\"worst\")\n",
      "    plot_digits(worstshow, numcols = 4)\n",
      "    \n",
      "#validate and plot digits with the best and worst 8 probabilities\n",
      "best, worst = validate(x_valid, t_valid, w, b, 8)\n",
      "plot_res_reg(best, worst)"
     ],
     "language": "python",
     "metadata": {},
     "outputs": [
      {
       "output_type": "stream",
       "stream": "stdout",
       "text": [
        "model built. validating...\n"
       ]
      },
      {
       "metadata": {},
       "output_type": "display_data",
       "png": "[encoded data removed]",
       "text": [
        "<matplotlib.figure.Figure at 0x36d25d0>"
       ]
      },
      {
       "metadata": {},
       "output_type": "display_data",
       "png": "[encoded data removed]",
       "text": [
        "<matplotlib.figure.Figure at 0x3a07510>"
       ]
      }
     ],
     "prompt_number": 11
    },
    {
     "cell_type": "markdown",
     "metadata": {},
     "source": [
      "The results seem to make sense since the digits with the lowest log probability seem to be not properly written, whereas the ones with the highest are more clearer and better written. The simple multiclass logistic regression model hence can't identify well those non-ordinary digits."
     ]
    },
    {
     "cell_type": "markdown",
     "metadata": {},
     "source": [
      "# Part 2. Multilayer perceptron\n",
      "\n",
      "(In this part you don't have to write any code, except for bonus points).\n",
      "\n",
      "You discover that the predictions by the logistic regression classifier are not good enough for your application: the model is too simple. You want to increase the accuracy of your predictions by using a better model. For this purpose, you're going to use a multilayer perceptron (MLP), a simple kind of neural network. The perceptron wil have a single hidden $\\bh$ layer with $L$ elements. The parameters of the model are $\\bV$ (connections between input $\\bx$ and hidden layer $\\bh$), $\\ba$ (the biases/intercepts $\\bh$), $\\bW$ (connections between $\\bh$ and $\\log q$) and $\\bb$ (the biases/intercepts of $\\log q$.\n",
      "\n",
      "The conditional probability of the class label $j$ is given by:\n",
      "\n",
      "$\\log p(t = j \\;|\\; \\bx, \\bb, \\bW) = \\log q_j - \\log Z$\n",
      "\n",
      "where $q_j$ are again the unnormalized probabilities per class, and $Z = \\sum_j q_j$ is again the probability normalizing factor. Each $q_j$ is computed using:\n",
      "\n",
      "$\\log q_j = \\bw_j^T \\bh + b_j$\n",
      "\n",
      "where $\\bh$ is a $L \\times 1$ vector with the hidden layer activations (of a hidden layer with size $L$), and $\\bw_j$ is the $j$-th column of $\\bW$ (a $L \\times 10$ matrix). Each element of the hidden layer is computed from the input vector $\\bx$ using:\n",
      "\n",
      "$h_j = \\sigma(\\bv_j^T \\bx + a_j)$\n",
      "\n",
      "where $\\bv_j$ is the $j$-th column of $\\bV$ (a $784 \\times L$ matrix), $a_j$ is the $j$-th element of $\\ba$, and $\\sigma(.)$ is the so-called sigmoid activation function, defined by:\n",
      "\n",
      "$\\sigma(x) = \\frac{1}{1 + \\exp(-x)}$\n",
      "\n",
      "Note that this model is almost equal to the multiclass logistic regression model, but with an extra 'hidden layer' $\\bh$. The activations of this hidden layer can be viewed as features computed from the input, where the feature transformation ($\\bV$ and $\\ba$) is learned.\n",
      "\n",
      "## 2.1 Derive gradient equations\n",
      "\n",
      "State (shortly) why $\\nabla_{\\bb} \\mathcal{L}^{(i)}$ is equal to the earlier (multiclass logistic regression) case, and why $\\nabla_{\\bw_j} \\mathcal{L}^{(i)}$ is almost equal to the earlier case.\n",
      "\n",
      "Like in multiclass logistic regression, you should use intermediate variables $\\mathbf{\\delta}_j^q$. In addition, you should use intermediate variables $\\mathbf{\\delta}_j^h = \\frac{\\partial \\mathcal{L}^{(i)}}{\\partial \\log h_j}$.\n",
      "\n",
      "Given an input image, roughly the following intermediate variables should be computed:\n",
      "\n",
      "$\n",
      "\\log \\bq \\rightarrow Z \\rightarrow \\log \\bp \\rightarrow \\mathbf{\\delta}^q \\rightarrow \\mathbf{\\delta}^h\n",
      "$\n",
      "\n",
      "where $\\mathbf{\\delta}_j^h = \\frac{\\partial \\mathcal{L}^{(i)}}{\\partial \\bh_j}$.\n",
      "\n",
      "Give the equations for computing $\\mathbf{\\delta}^h$, and for computing the derivatives of $\\mathcal{L}^{(i)}$ w.r.t. $\\bW$, $\\bb$, $\\bV$ and $\\ba$. \n",
      "\n",
      "You can use the convenient fact that $\\frac{\\partial}{\\partial x} \\sigma(x) = \\sigma(x) (1 - \\sigma(x))$.\n"
     ]
    },
    {
     "cell_type": "heading",
     "level": 3,
     "metadata": {},
     "source": [
      "Answer :"
     ]
    },
    {
     "cell_type": "markdown",
     "metadata": {},
     "source": [
      "$\\textbf{Equation for } \\delta_j^h :$\n",
      "\n",
      "\n",
      "For $j = t^{(i)}$:\n",
      "$\n",
      "\\frac{\\partial \\mathcal{L}^{(i)}}{\\partial \\log p_j}\n",
      "\\frac{\\partial \\log p_j}{\\partial \\log q_j}\\frac{\\partial \\log q_j}{\\partial \\bh_j}\n",
      "+ \\frac{\\partial \\mathcal{L}^{(i)}}{\\partial \\log Z}\n",
      "\\frac{\\partial \\log Z}{\\partial Z} \n",
      "\\frac{\\partial Z}{\\partial \\log q_j}\\frac{\\partial \\log q_j}{\\partial \\bh_j}\n",
      "=\\left(\\frac{\\partial \\mathcal{L}^{(i)}}{\\partial \\log p_j}\n",
      "\\frac{\\partial \\log p_j}{\\partial \\log q_j}\n",
      "+ \\frac{\\partial \\mathcal{L}^{(i)}}{\\partial \\log Z}\n",
      "\\frac{\\partial \\log Z}{\\partial Z} \n",
      "\\frac{\\partial Z}{\\partial \\log q_j}\\right)\\frac{\\partial \\log q_j}{\\partial \\bh_j}\n",
      "=\\delta_j^q\\frac{\\partial \\log q_j}{\\partial \\bh_j}\n",
      "=\\delta_j^q \\mathbf{w_j}^T\n",
      "$\n",
      "\n",
      "For $j \\neq t^{(i)}$:\n",
      "$\n",
      "\\left(\\frac{\\partial \\mathcal{L}^{(i)}}{\\partial \\log Z}\n",
      "\\frac{\\partial \\log Z}{\\partial Z} \n",
      "\\frac{\\partial Z}{\\partial \\log q_j}\\right) \\frac{\\partial \\log q_j}{\\partial \\bh_j}\n",
      "=\\delta_j^q\\frac{\\partial \\log q_j}{\\partial \\bh_j}\n",
      "=\\delta_j^q \\mathbf{w_j}^T\n",
      "$\n",
      "\n",
      "$\n",
      "\\delta_j^h = \\frac{\\partial \\mathcal{L}^{(i)}}{\\partial \\bh_j} = \\delta_j^q \\mathbf{w_j}^T\n",
      "$\n",
      "\n",
      "$\\textbf{Computing} \\frac{\\partial \\mathcal{L}^{(i)}}{\\partial W_{ij}} :$\n",
      "\n",
      "\n",
      "$\n",
      "\\frac{\\partial \\mathcal{L}^{(i)}}{\\partial W_{ij}} =\n",
      "\\frac{\\partial \\mathcal{L}^{(i)}}{\\partial \\log q_j}\n",
      "\\frac{\\partial \\log q_j}{\\partial W_{ij}}\n",
      "= \\mathbf{\\delta}_j^q\n",
      "\\frac{\\partial \\log q_j}{\\partial W_{ij}}\n",
      "=\\mathbf{\\delta}_j^q h_i\n",
      "$\n",
      "\n",
      "$\\textbf{In Matrix Format} : \\nabla_{\\mathbf{W}} \\mathcal{L}^{(i)} = \\mathbf{h} {\\delta^q}^T $ \n",
      "\n",
      "\n",
      "\n",
      "$\\textbf{Computing } \\frac{\\partial \\mathcal{L}^{(i)}}{\\partial b_{j}} :$\n",
      "\n",
      "$\n",
      "\\frac{\\partial \\mathcal{L}^{(i)}}{\\partial b_j} =\n",
      "\\frac{\\partial \\mathcal{L}^{(i)}}{\\partial \\log q_j}\n",
      "\\frac{\\partial \\log q_j}{\\partial b_j}\n",
      "= \\mathbf{\\delta}_j^q\n",
      "\\frac{\\partial \\log q_j}{\\partial b_j}\n",
      "=\\mathbf{\\delta}_j^q\n",
      "$\n",
      "\n",
      "$\\textbf{In Vector Format} : \\nabla_{\\mathbf{b}} \\mathcal{L}^{(i)} =  {\\delta^q} $ \n",
      "\n",
      "$\\textbf{The reason why } \\frac{\\partial \\mathcal{L}^{(i)}}{\\partial b_j}$ is equal to the earlier case, and $\\frac{\\partial \\mathcal{L}^{(i)}}{\\partial W_{ij}}$ is almost equal to the earlier case:\n",
      "\n",
      "Because we actually use the same structure as in the logistic regression except in MLP we add one layer before the logistic regression structure. So now logistic regression structure does not connect to input but it connects to the hidden layer, that is why $\\mathbf{x}$ is replaced by $h$ in $\\frac{\\partial \\mathcal{L}^{(i)}}{\\partial W_{ij}}$ and other things are still the same.\n",
      "\n",
      "$\\textbf{Computing} \\frac{\\partial \\mathcal{L}^{(i)}}{\\partial \\mathbf{V}_{ij}} :$\n",
      "\n",
      "$\n",
      "\\frac{\\partial \\mathcal{L}^{(i)}}{\\partial \\mathbf{V}_{ij}} =\n",
      "\\frac{\\partial \\mathcal{L}^{(i)}}{\\partial h_j}\n",
      "\\frac{\\partial h_j}{\\partial \\mathbf{V}_{ij}}\n",
      "= \\mathbf{\\delta}_j^h\n",
      "\\frac{\\partial h_j}{\\partial \\mathbf{V}_{ij}}\n",
      "=\\mathbf{\\delta}_j^h\\cdot \\sigma(\\mathbf{v}_{ij} \\mathbf{x}_i + a_j)(1-\\sigma(\\mathbf{v}_{ij} \\mathbf{x}_i + a_j))\\mathbf{v}_{ij}\n",
      "$\n",
      "\n",
      "$\\textbf{In Matrix Format} : \\nabla_{\\mathbf{V}} \\mathcal{L}^{(i)} = \\mathbf{V} \\mathbf{diag}(\\delta^h\\mathbf{h}^T\\mathbf{I}(1-\\mathbf{h}))$\n",
      "\n",
      "where $\\mathbf{h} =  \\sigma(\\mathbf{V}^T\\mathbf{x}+\\mathbf{a})$\n",
      "\n",
      "$\\textbf{Computing} \\frac{\\partial \\mathcal{L}^{(i)}}{\\partial \\mathbf{a}_{j}} :$\n",
      "\n",
      "$\n",
      "\\frac{\\partial \\mathcal{L}^{(i)}}{\\partial \\mathbf{a}_{j}} =\n",
      "\\frac{\\partial \\mathcal{L}^{(i)}}{\\partial h_j}\n",
      "\\frac{\\partial h_j}{\\partial \\mathbf{a}_{j}}\n",
      "= \\mathbf{\\delta}_j^h\n",
      "\\frac{\\partial h_j}{\\partial \\mathbf{a}_{j}}\n",
      "=\\mathbf{\\delta}_j^h\\cdot \\sigma(\\mathbf{v}_{j} \\mathbf{x} + a_j)(1-\\sigma(\\mathbf{v}_{j} \\mathbf{x} + a_j))\n",
      "$\n",
      "\n",
      "$\\textbf{In Vector Format} : \\nabla_{\\mathbf{a}} \\mathcal{L}^{(i)} = \\delta^h\\mathbf{h}^T(1-\\mathbf{h})$ "
     ]
    },
    {
     "cell_type": "markdown",
     "metadata": {},
     "source": [
      "## 2.2 MAP optimization\n",
      "\n",
      "You derived equations for finding the _maximum likelihood_ solution of the parameters. Explain, in a few sentences, how you could extend this approach so that it optimizes towards a _maximum a posteriori_ (MAP) solution of the parameters, with a Gaussian prior on the parameters. \n",
      "\n",
      "(Like in 2.1, you _don't_ need to write any code)"
     ]
    },
    {
     "cell_type": "heading",
     "level": 3,
     "metadata": {},
     "source": [
      "Answer :"
     ]
    },
    {
     "cell_type": "markdown",
     "metadata": {},
     "source": [
      "Instead of maximizing likelihood, we can combine likelihood and prior to get the posterior, and maximize the posterior. For example we want to find the optimum solution of parameter $\\mathbf{W}$, we can use log posterior instead of log likelihood, thus it become :\n",
      "\n",
      "$\\log p(\\mathbf{t}\\mid\\mathbf{X,W,\\sigma}) = \\log p(\\mathbf{t}\\mid\\mathbf{X,W})+\\log p(W\\mid \\sigma)$, where $\\sigma$ is variance of distribution of parameter $\\mathbf{w}$\n",
      "\n",
      "$=\\sum_{i=1}^{N} \\log p(t_i\\mid \\mathbf{x}_i, \\mathbf{w}) - \\frac{1}{2\\sigma^2} \\sum_{j=1}^{D}w_j^2$\n",
      "\n",
      "This automatically adds a regularizer in our likelihood function and hence controlls overfitting."
     ]
    },
    {
     "cell_type": "markdown",
     "metadata": {},
     "source": [
      "## 2.3. Extra\n",
      "\n",
      "### 2.3.1. 10% bonus points: Implement and train a MLP\n",
      "\n",
      "You receive 10% bonus points if you succesfully implement a MLP model with a single hidden layer. Your code should include code to learn the parameters.\n",
      "\n"
     ]
    },
    {
     "cell_type": "code",
     "collapsed": false,
     "input": [
      "#units in hidden layer for mlp\n",
      "L = 10\n",
      "# For the sigmoid function this interval initialization ensures that, early in training, \n",
      "#each neuron operates in a regime of its activation function where information can easily \n",
      "#be propagated both upward (activations flowing from inputs to outputs) and backward \n",
      "#(gradients flowing from outputs to inputs). from : http://deeplearning.net/tutorial/mlp.html\n",
      "v = np.asarray(np.random.uniform(-np.sqrt(6. / (x_train.shape[1] + L)),np.sqrt(6. / (x_train.shape[1] + L)),(x_train.shape[1], L)))\n",
      "#v = np.random.randn(x.shape[1], L)\n",
      "a = np.zeros(L)\n",
      "w = np.zeros((L, len(classes)))\n",
      "b = np.zeros(len(classes))\n",
      "\n",
      "def sigmoid(a):\n",
      "     return 1 / (1 + np.exp(-a))\n",
      "    \n",
      "def calc_hidden(x, v, a):\n",
      "    h = sigmoid(np.dot(v.T, x) + a)\n",
      "    return h\n",
      "\n",
      "def gradient_mlp(x, t, w, b, v, a):\n",
      "    #init\n",
      "    logq, logp, deltaq = np.zeros(b.shape[0]), np.zeros(b.shape[0]), np.zeros(b.shape[0])\n",
      "    deltah = np.zeros(v.shape[1])     \n",
      "    gradw = np.zeros((x.shape[0], b.shape[0]))\n",
      "    gradv = np.zeros(v.shape)\n",
      "    grada = np.zeros(a.shape[0])\n",
      "    #calculate logp and the normalization constant Z\n",
      "    h = calc_hidden(x, v, a).T\n",
      "\n",
      "    \n",
      "    logq = np.dot(w.T, h) + b\n",
      "\n",
      "    Z = np.sum(np.exp(logq))\n",
      "    \n",
      "    deltaq[t] = 1 - ((1/Z)*np.exp(np.dot(w.T[t],h)+b[t]))\n",
      "    deltaq[0:t] = - ((1/Z)*np.exp(np.dot(w.T[0:t],h)+b[0:t])) \n",
      "    deltaq[t+1:len(deltaq)] = - ((1/Z)*np.exp(np.dot(w.T[t+1:len(deltaq)],h)+b[t+1:len(deltaq)]))  \n",
      "    deltaq = np.array([deltaq]) \n",
      "    \n",
      "    h = np.array([h]).T\n",
      "    deltah = np.dot(deltaq,w.T)\n",
      "    x = np.array([x])\n",
      "    \n",
      "    #gradients for the weights and biases for the output layer\n",
      "    gradw = np.dot(h,deltaq)\n",
      "    gradb = np.reshape(deltaq,-1)\n",
      "\n",
      "    #gradient for the weights v of the hidden layer\n",
      "    I = np.matrix(np.identity(v.shape[1]))\n",
      "    diagonal = np.dot(np.dot(np.dot(deltah.T, h.T),I),h)\n",
      "    diagonal = np.reshape(np.asarray(diagonal), -1)\n",
      "    gradv = np.dot(v, np.diag(diagonal))  \n",
      "    \n",
      "    #gradient for the biases a for the hidden layer    \n",
      "    grada = np.dot(np.dot(deltah.T,h.T),1-h)\n",
      "    grada = np.reshape(grada,-1)\n",
      "    \n",
      "    return gradw, gradb, gradv, grada\n",
      "\n",
      "def sgd_iter_mlp(x_train, t_train, w, b, v, a):\n",
      "    index_shuf = range(len(x_train))\n",
      "    shuffle(index_shuf)\n",
      "    #set learning rate\n",
      "    lr = 10**(-4)\n",
      "    \n",
      "    for i in index_shuf:\n",
      "        gradw, gradb, gradv, grada = gradient_mlp(x_train[i], t_train[i], w, b, v, a)\n",
      "        \n",
      "        w = w + lr * gradw\n",
      "        b = b + lr * gradb\n",
      "        v = v + lr * gradv\n",
      "        a = a + lr * grada\n",
      "        \n",
      "    return w, b, v, a\n",
      "\n",
      "def return_likelihood_mlp(x, t, w, b, v, a):\n",
      "   #return conditional log probability of all datapoints in the dataset\n",
      "   logq, logp = np.zeros(b.shape[0]), np.zeros(b.shape[0])  \n",
      "   logp_true = np.zeros(t.shape[0])\n",
      "   b = np.array([b,]*x.shape[0]).T\n",
      "   a = np.array([a,]*x.shape[0]).T\n",
      "   h = calc_hidden(x.T, v, a)\n",
      "   logq = np.dot(w.T, h) + b\n",
      "    \n",
      "   Z = np.sum(np.exp(logq), axis=0)\n",
      "   Z = np.array([Z,]*b.shape[0])\n",
      "   \n",
      "   logp = logq - np.log(Z)\n",
      "   \n",
      "   for i in range(len(t)):\n",
      "       logp_true[i] = logp[t[i],i] \n",
      "   return logp_true\n",
      "   \n",
      "\n",
      "def train_mlp(x_train, t_train, x_valid, t_valid, w, b, v, a, epochs):\n",
      "    #training, perform iterations equal to epochs\n",
      "    print \"training mlp ...\" \n",
      "    plt.figure(\"plot of conditional log-probability\")\n",
      "    logp_t = []\n",
      "    logp_v = []\n",
      "\n",
      "    for i in range(epochs):\n",
      "        print \"iteration: \"+str(i+1)\n",
      "        w, b, v, a = sgd_iter_mlp(x_train, t_train, w, b, v, a)\n",
      "        #uncomment below for using validation set as well for training\n",
      "        #w, b, v, a = sgd_iter_mlp(x_valid, t_valid, w, b, v, a)\n",
      "        logp_train = return_likelihood_mlp(x_train, t_train, w, b, v, a)\n",
      "        logp_valid = return_likelihood_mlp(x_valid, t_valid, w, b, v, a)\n",
      "        logp_t.append(np.mean(logp_train))\n",
      "\n",
      "        logp_v.append(np.mean(logp_valid))\n",
      "\n",
      "    return w, b, v, a, logp_t, logp_v\n",
      "#train multilayer perceptron \n",
      "w, b, v, a, logp_t, logp_v = train_mlp(x_train, t_train, x_valid, t_valid, w, b, v, a, 5)\n",
      "plt.plot(logp_t, color = 'b', label = 'training')\n",
      "plt.plot(logp_v, color = 'g', label = 'validation') \n",
      "plt.legend()\n",
      "plt.show()"
     ],
     "language": "python",
     "metadata": {},
     "outputs": [],
     "prompt_number": "*"
    },
    {
     "cell_type": "code",
     "collapsed": false,
     "input": [
      "def validate_mlp(x_valid, t_valid, w, b, v, a, numval):\n",
      "    print \"model built. validating...\"\n",
      "    validation = []\n",
      "    logp = return_likelihood_mlp(x_valid,t_valid,w,b,v,a)\n",
      "    for t in range(len(t_valid)):\n",
      "        validation.append((logp[t], t))\n",
      "\n",
      "    validation = sorted(validation,key=itemgetter(0))\n",
      "\n",
      "    return validation[len(validation)-numval:len(validation)], validation[0:numval] \n",
      "#validate and plot images with the best and worst 8 probabilities\n",
      "best, worst = validate_mlp(x_valid, t_valid, w, b, v, a, 8)\n",
      "plot_res_reg(best, worst)\n",
      "plt.show()"
     ],
     "language": "python",
     "metadata": {},
     "outputs": [
      {
       "output_type": "stream",
       "stream": "stdout",
       "text": [
        "model built. validating...\n"
       ]
      },
      {
       "metadata": {},
       "output_type": "display_data",
       "png": "[encoded data removed]",
       "text": [
        "<matplotlib.figure.Figure at 0x3413c90>"
       ]
      },
      {
       "metadata": {},
       "output_type": "display_data",
       "png": "[encoded data removed]",
       "text": [
        "<matplotlib.figure.Figure at 0x2d58d10>"
       ]
      }
     ],
     "prompt_number": 26
    },
    {
     "cell_type": "markdown",
     "metadata": {},
     "source": [
      "### 2.3.2. 10% bonus points: Less than 150 misclassifications on the test set\n",
      "\n",
      "You receive an additional 10% bonus points if you manage to train a model with very high accuracy: at most 1.5% misclasified digits on the test set. Note that the test set contains 10000 digits, so you model should misclassify at most 150 digits. This should be achievable with a MLP model with one hidden layer. See results of various models at : `http://yann.lecun.com/exdb/mnist/index.html`. To reach such a low accuracy, you probably need to have a very high $L$ (many hidden units), probably $L > 200$, and apply a strong Gaussian prior on the weights. In this case you are allowed to use the validation set for training.\n",
      "You are allowed to add additional layers, and use convolutional networks, although that is probably not required to reach 1.5% misclassifications."
     ]
    }
   ],
   "metadata": {}
  }
 ]
}